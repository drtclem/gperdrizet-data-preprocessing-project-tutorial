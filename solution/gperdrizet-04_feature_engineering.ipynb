{
 "cells": [
  {
   "cell_type": "markdown",
   "metadata": {},
   "source": [
    "# AirBnB data feature engineering\n",
    "\n",
    "## Notebook set-up\n",
    "\n",
    "Assume we are preparing this data for a linear regression model."
   ]
  },
  {
   "cell_type": "code",
   "execution_count": 23,
   "metadata": {},
   "outputs": [],
   "source": [
    "# PyPI imports\n",
    "#import numpy as np\n",
    "import pandas as pd\n",
    "import matplotlib.pyplot as plt\n",
    "import seaborn as sns\n",
    "from sklearn.preprocessing import power_transform, StandardScaler, SplineTransformer, PolynomialFeatures\n",
    "from sklearn.linear_model import LinearRegression\n",
    "from sklearn.tree import DecisionTreeRegressor\n",
    "from sklearn.ensemble import HistGradientBoostingRegressor\n",
    "from sklearn.feature_selection import RFECV\n",
    "\n",
    "# Internal imports\n",
    "import gperdrizet_functions as funcs\n",
    "\n",
    "label='price'\n",
    "\n",
    "features=[\n",
    "    'latitude',\n",
    "    'longitude',\n",
    "    'minimum_nights',\n",
    "    'number_of_reviews',\n",
    "    'reviews_per_month',\n",
    "    'calculated_host_listings_count',\n",
    "    'availability_365',\n",
    "    'neighbourhood_group',\n",
    "    'room_type'\n",
    "]"
   ]
  },
  {
   "cell_type": "markdown",
   "metadata": {},
   "source": [
    "## 1. Data loading"
   ]
  },
  {
   "cell_type": "code",
   "execution_count": 2,
   "metadata": {},
   "outputs": [
    {
     "data": {
      "text/html": [
       "<div>\n",
       "<style scoped>\n",
       "    .dataframe tbody tr th:only-of-type {\n",
       "        vertical-align: middle;\n",
       "    }\n",
       "\n",
       "    .dataframe tbody tr th {\n",
       "        vertical-align: top;\n",
       "    }\n",
       "\n",
       "    .dataframe thead th {\n",
       "        text-align: right;\n",
       "    }\n",
       "</style>\n",
       "<table border=\"1\" class=\"dataframe\">\n",
       "  <thead>\n",
       "    <tr style=\"text-align: right;\">\n",
       "      <th></th>\n",
       "      <th>0</th>\n",
       "      <th>1</th>\n",
       "      <th>2</th>\n",
       "      <th>3</th>\n",
       "      <th>4</th>\n",
       "    </tr>\n",
       "  </thead>\n",
       "  <tbody>\n",
       "    <tr>\n",
       "      <th>price</th>\n",
       "      <td>149.00000</td>\n",
       "      <td>225.00000</td>\n",
       "      <td>150.00000</td>\n",
       "      <td>89.00000</td>\n",
       "      <td>80.00000</td>\n",
       "    </tr>\n",
       "    <tr>\n",
       "      <th>latitude</th>\n",
       "      <td>40.64749</td>\n",
       "      <td>40.75362</td>\n",
       "      <td>40.80902</td>\n",
       "      <td>40.68514</td>\n",
       "      <td>40.79851</td>\n",
       "    </tr>\n",
       "    <tr>\n",
       "      <th>longitude</th>\n",
       "      <td>-73.97237</td>\n",
       "      <td>-73.98377</td>\n",
       "      <td>-73.94190</td>\n",
       "      <td>-73.95976</td>\n",
       "      <td>-73.94399</td>\n",
       "    </tr>\n",
       "    <tr>\n",
       "      <th>minimum_nights</th>\n",
       "      <td>1.00000</td>\n",
       "      <td>1.00000</td>\n",
       "      <td>3.00000</td>\n",
       "      <td>1.00000</td>\n",
       "      <td>10.00000</td>\n",
       "    </tr>\n",
       "    <tr>\n",
       "      <th>number_of_reviews</th>\n",
       "      <td>9.00000</td>\n",
       "      <td>45.00000</td>\n",
       "      <td>0.00000</td>\n",
       "      <td>270.00000</td>\n",
       "      <td>9.00000</td>\n",
       "    </tr>\n",
       "    <tr>\n",
       "      <th>reviews_per_month</th>\n",
       "      <td>0.21000</td>\n",
       "      <td>0.38000</td>\n",
       "      <td>0.28200</td>\n",
       "      <td>4.64000</td>\n",
       "      <td>0.10000</td>\n",
       "    </tr>\n",
       "    <tr>\n",
       "      <th>calculated_host_listings_count</th>\n",
       "      <td>6.00000</td>\n",
       "      <td>2.00000</td>\n",
       "      <td>1.00000</td>\n",
       "      <td>1.00000</td>\n",
       "      <td>1.00000</td>\n",
       "    </tr>\n",
       "    <tr>\n",
       "      <th>availability_365</th>\n",
       "      <td>365.00000</td>\n",
       "      <td>355.00000</td>\n",
       "      <td>365.00000</td>\n",
       "      <td>194.00000</td>\n",
       "      <td>0.00000</td>\n",
       "    </tr>\n",
       "    <tr>\n",
       "      <th>neighbourhood_group</th>\n",
       "      <td>1.00000</td>\n",
       "      <td>2.00000</td>\n",
       "      <td>2.00000</td>\n",
       "      <td>1.00000</td>\n",
       "      <td>2.00000</td>\n",
       "    </tr>\n",
       "    <tr>\n",
       "      <th>room_type</th>\n",
       "      <td>1.00000</td>\n",
       "      <td>0.00000</td>\n",
       "      <td>1.00000</td>\n",
       "      <td>0.00000</td>\n",
       "      <td>0.00000</td>\n",
       "    </tr>\n",
       "  </tbody>\n",
       "</table>\n",
       "</div>"
      ],
      "text/plain": [
       "                                        0          1          2          3  \\\n",
       "price                           149.00000  225.00000  150.00000   89.00000   \n",
       "latitude                         40.64749   40.75362   40.80902   40.68514   \n",
       "longitude                       -73.97237  -73.98377  -73.94190  -73.95976   \n",
       "minimum_nights                    1.00000    1.00000    3.00000    1.00000   \n",
       "number_of_reviews                 9.00000   45.00000    0.00000  270.00000   \n",
       "reviews_per_month                 0.21000    0.38000    0.28200    4.64000   \n",
       "calculated_host_listings_count    6.00000    2.00000    1.00000    1.00000   \n",
       "availability_365                365.00000  355.00000  365.00000  194.00000   \n",
       "neighbourhood_group               1.00000    2.00000    2.00000    1.00000   \n",
       "room_type                         1.00000    0.00000    1.00000    0.00000   \n",
       "\n",
       "                                       4  \n",
       "price                           80.00000  \n",
       "latitude                        40.79851  \n",
       "longitude                      -73.94399  \n",
       "minimum_nights                  10.00000  \n",
       "number_of_reviews                9.00000  \n",
       "reviews_per_month                0.10000  \n",
       "calculated_host_listings_count   1.00000  \n",
       "availability_365                 0.00000  \n",
       "neighbourhood_group              2.00000  \n",
       "room_type                        0.00000  "
      ]
     },
     "execution_count": 2,
     "metadata": {},
     "output_type": "execute_result"
    }
   ],
   "source": [
    "raw_data_df=pd.read_parquet('./data/processed/gperdrizet_cleaned_data.parquet')\n",
    "raw_data_df.dropna(inplace=True)\n",
    "datasets={'Raw': raw_data_df.copy()}\n",
    "raw_data_df.head().transpose()"
   ]
  },
  {
   "cell_type": "code",
   "execution_count": 3,
   "metadata": {},
   "outputs": [
    {
     "data": {
      "text/html": [
       "<div>\n",
       "<style scoped>\n",
       "    .dataframe tbody tr th:only-of-type {\n",
       "        vertical-align: middle;\n",
       "    }\n",
       "\n",
       "    .dataframe tbody tr th {\n",
       "        vertical-align: top;\n",
       "    }\n",
       "\n",
       "    .dataframe thead th {\n",
       "        text-align: right;\n",
       "    }\n",
       "</style>\n",
       "<table border=\"1\" class=\"dataframe\">\n",
       "  <thead>\n",
       "    <tr style=\"text-align: right;\">\n",
       "      <th></th>\n",
       "      <th>price</th>\n",
       "      <th>latitude</th>\n",
       "      <th>longitude</th>\n",
       "      <th>minimum_nights</th>\n",
       "      <th>number_of_reviews</th>\n",
       "      <th>reviews_per_month</th>\n",
       "      <th>calculated_host_listings_count</th>\n",
       "      <th>availability_365</th>\n",
       "      <th>neighbourhood_group</th>\n",
       "      <th>room_type</th>\n",
       "    </tr>\n",
       "  </thead>\n",
       "  <tbody>\n",
       "    <tr>\n",
       "      <th>count</th>\n",
       "      <td>48135.000000</td>\n",
       "      <td>48135.000000</td>\n",
       "      <td>48135.000000</td>\n",
       "      <td>48135.000000</td>\n",
       "      <td>48135.000000</td>\n",
       "      <td>48135.000000</td>\n",
       "      <td>48135.000000</td>\n",
       "      <td>48135.000000</td>\n",
       "      <td>48135.000000</td>\n",
       "      <td>48135.000000</td>\n",
       "    </tr>\n",
       "    <tr>\n",
       "      <th>mean</th>\n",
       "      <td>150.065669</td>\n",
       "      <td>40.728892</td>\n",
       "      <td>-73.951507</td>\n",
       "      <td>6.670967</td>\n",
       "      <td>23.598255</td>\n",
       "      <td>1.178454</td>\n",
       "      <td>3.551761</td>\n",
       "      <td>110.198089</td>\n",
       "      <td>1.670281</td>\n",
       "      <td>0.511603</td>\n",
       "    </tr>\n",
       "    <tr>\n",
       "      <th>std</th>\n",
       "      <td>207.559298</td>\n",
       "      <td>0.054870</td>\n",
       "      <td>0.046170</td>\n",
       "      <td>17.493950</td>\n",
       "      <td>44.816070</td>\n",
       "      <td>1.543982</td>\n",
       "      <td>11.060666</td>\n",
       "      <td>130.563590</td>\n",
       "      <td>0.740447</td>\n",
       "      <td>0.545919</td>\n",
       "    </tr>\n",
       "    <tr>\n",
       "      <th>min</th>\n",
       "      <td>0.000000</td>\n",
       "      <td>40.499790</td>\n",
       "      <td>-74.244420</td>\n",
       "      <td>1.000000</td>\n",
       "      <td>0.000000</td>\n",
       "      <td>0.010000</td>\n",
       "      <td>1.000000</td>\n",
       "      <td>0.000000</td>\n",
       "      <td>0.000000</td>\n",
       "      <td>0.000000</td>\n",
       "    </tr>\n",
       "    <tr>\n",
       "      <th>25%</th>\n",
       "      <td>69.000000</td>\n",
       "      <td>40.689660</td>\n",
       "      <td>-73.982390</td>\n",
       "      <td>1.000000</td>\n",
       "      <td>1.000000</td>\n",
       "      <td>0.140000</td>\n",
       "      <td>1.000000</td>\n",
       "      <td>0.000000</td>\n",
       "      <td>1.000000</td>\n",
       "      <td>0.000000</td>\n",
       "    </tr>\n",
       "    <tr>\n",
       "      <th>50%</th>\n",
       "      <td>104.000000</td>\n",
       "      <td>40.722950</td>\n",
       "      <td>-73.955170</td>\n",
       "      <td>2.000000</td>\n",
       "      <td>5.000000</td>\n",
       "      <td>0.536000</td>\n",
       "      <td>1.000000</td>\n",
       "      <td>41.000000</td>\n",
       "      <td>2.000000</td>\n",
       "      <td>0.000000</td>\n",
       "    </tr>\n",
       "    <tr>\n",
       "      <th>75%</th>\n",
       "      <td>175.000000</td>\n",
       "      <td>40.763455</td>\n",
       "      <td>-73.935605</td>\n",
       "      <td>5.000000</td>\n",
       "      <td>24.000000</td>\n",
       "      <td>1.660000</td>\n",
       "      <td>2.000000</td>\n",
       "      <td>218.000000</td>\n",
       "      <td>2.000000</td>\n",
       "      <td>1.000000</td>\n",
       "    </tr>\n",
       "    <tr>\n",
       "      <th>max</th>\n",
       "      <td>5000.000000</td>\n",
       "      <td>40.913060</td>\n",
       "      <td>-73.712990</td>\n",
       "      <td>500.000000</td>\n",
       "      <td>629.000000</td>\n",
       "      <td>20.940000</td>\n",
       "      <td>121.000000</td>\n",
       "      <td>365.000000</td>\n",
       "      <td>4.000000</td>\n",
       "      <td>2.000000</td>\n",
       "    </tr>\n",
       "  </tbody>\n",
       "</table>\n",
       "</div>"
      ],
      "text/plain": [
       "              price      latitude     longitude  minimum_nights  \\\n",
       "count  48135.000000  48135.000000  48135.000000    48135.000000   \n",
       "mean     150.065669     40.728892    -73.951507        6.670967   \n",
       "std      207.559298      0.054870      0.046170       17.493950   \n",
       "min        0.000000     40.499790    -74.244420        1.000000   \n",
       "25%       69.000000     40.689660    -73.982390        1.000000   \n",
       "50%      104.000000     40.722950    -73.955170        2.000000   \n",
       "75%      175.000000     40.763455    -73.935605        5.000000   \n",
       "max     5000.000000     40.913060    -73.712990      500.000000   \n",
       "\n",
       "       number_of_reviews  reviews_per_month  calculated_host_listings_count  \\\n",
       "count       48135.000000       48135.000000                    48135.000000   \n",
       "mean           23.598255           1.178454                        3.551761   \n",
       "std            44.816070           1.543982                       11.060666   \n",
       "min             0.000000           0.010000                        1.000000   \n",
       "25%             1.000000           0.140000                        1.000000   \n",
       "50%             5.000000           0.536000                        1.000000   \n",
       "75%            24.000000           1.660000                        2.000000   \n",
       "max           629.000000          20.940000                      121.000000   \n",
       "\n",
       "       availability_365  neighbourhood_group     room_type  \n",
       "count      48135.000000         48135.000000  48135.000000  \n",
       "mean         110.198089             1.670281      0.511603  \n",
       "std          130.563590             0.740447      0.545919  \n",
       "min            0.000000             0.000000      0.000000  \n",
       "25%            0.000000             1.000000      0.000000  \n",
       "50%           41.000000             2.000000      0.000000  \n",
       "75%          218.000000             2.000000      1.000000  \n",
       "max          365.000000             4.000000      2.000000  "
      ]
     },
     "execution_count": 3,
     "metadata": {},
     "output_type": "execute_result"
    }
   ],
   "source": [
    "raw_data_df.describe()"
   ]
  },
  {
   "cell_type": "code",
   "execution_count": 4,
   "metadata": {},
   "outputs": [
    {
     "name": "stdout",
     "output_type": "stream",
     "text": [
      "<class 'pandas.core.frame.DataFrame'>\n",
      "RangeIndex: 48135 entries, 0 to 48134\n",
      "Data columns (total 10 columns):\n",
      " #   Column                          Non-Null Count  Dtype  \n",
      "---  ------                          --------------  -----  \n",
      " 0   price                           48135 non-null  float64\n",
      " 1   latitude                        48135 non-null  float64\n",
      " 2   longitude                       48135 non-null  float64\n",
      " 3   minimum_nights                  48135 non-null  float64\n",
      " 4   number_of_reviews               48135 non-null  float64\n",
      " 5   reviews_per_month               48135 non-null  float64\n",
      " 6   calculated_host_listings_count  48135 non-null  float64\n",
      " 7   availability_365                48135 non-null  float64\n",
      " 8   neighbourhood_group             48135 non-null  int64  \n",
      " 9   room_type                       48135 non-null  int64  \n",
      "dtypes: float64(8), int64(2)\n",
      "memory usage: 3.7 MB\n"
     ]
    }
   ],
   "source": [
    "raw_data_df.info()"
   ]
  },
  {
   "cell_type": "markdown",
   "metadata": {},
   "source": [
    "## 2. Scaling & transformation methods\n",
    "\n",
    "### 2.1. Box-Cox transformation"
   ]
  },
  {
   "cell_type": "code",
   "execution_count": 5,
   "metadata": {},
   "outputs": [
    {
     "name": "stdout",
     "output_type": "stream",
     "text": [
      "<class 'pandas.core.frame.DataFrame'>\n",
      "RangeIndex: 48135 entries, 0 to 48134\n",
      "Data columns (total 10 columns):\n",
      " #   Column                          Non-Null Count  Dtype  \n",
      "---  ------                          --------------  -----  \n",
      " 0   latitude                        48135 non-null  float64\n",
      " 1   longitude                       48135 non-null  float64\n",
      " 2   minimum_nights                  48135 non-null  float64\n",
      " 3   number_of_reviews               48135 non-null  float64\n",
      " 4   reviews_per_month               48135 non-null  float64\n",
      " 5   calculated_host_listings_count  48135 non-null  float64\n",
      " 6   availability_365                48135 non-null  float64\n",
      " 7   neighbourhood_group             48135 non-null  float64\n",
      " 8   room_type                       48135 non-null  float64\n",
      " 9   price                           48135 non-null  float64\n",
      "dtypes: float64(10)\n",
      "memory usage: 3.7 MB\n"
     ]
    }
   ],
   "source": [
    "skewed_features=[\n",
    "    'price',\n",
    "    'minimum_nights',\n",
    "    'number_of_reviews',\n",
    "    'reviews_per_month',\n",
    "    'calculated_host_listings_count',\n",
    "    'availability_365',\n",
    "    'neighbourhood_group',\n",
    "    'room_type'\n",
    "]\n",
    "\n",
    "transformed_data_df=raw_data_df.copy()\n",
    "transformed_data_df[skewed_features]=power_transform(transformed_data_df[skewed_features]+1, method='box-cox')\n",
    "datasets['Transformed']=transformed_data_df[features + [label]].copy()\n",
    "\n",
    "transformed_data_df[features + [label]].info()"
   ]
  },
  {
   "cell_type": "markdown",
   "metadata": {},
   "source": [
    "### 2.2. Standard scaling"
   ]
  },
  {
   "cell_type": "code",
   "execution_count": 6,
   "metadata": {},
   "outputs": [
    {
     "name": "stdout",
     "output_type": "stream",
     "text": [
      "<class 'pandas.core.frame.DataFrame'>\n",
      "RangeIndex: 48135 entries, 0 to 48134\n",
      "Data columns (total 10 columns):\n",
      " #   Column                          Non-Null Count  Dtype  \n",
      "---  ------                          --------------  -----  \n",
      " 0   latitude                        48135 non-null  float64\n",
      " 1   longitude                       48135 non-null  float64\n",
      " 2   minimum_nights                  48135 non-null  float64\n",
      " 3   number_of_reviews               48135 non-null  float64\n",
      " 4   reviews_per_month               48135 non-null  float64\n",
      " 5   calculated_host_listings_count  48135 non-null  float64\n",
      " 6   availability_365                48135 non-null  float64\n",
      " 7   neighbourhood_group             48135 non-null  float64\n",
      " 8   room_type                       48135 non-null  float64\n",
      " 9   price                           48135 non-null  float64\n",
      "dtypes: float64(10)\n",
      "memory usage: 3.7 MB\n"
     ]
    }
   ],
   "source": [
    "scaled_data_df=raw_data_df.copy()\n",
    "scaler=StandardScaler()\n",
    "scaled_data_df[features + [label]]=scaler.fit_transform(scaled_data_df[features + [label]])\n",
    "datasets['Scaled']=scaled_data_df[features + [label]].copy()\n",
    "\n",
    "scaled_data_df[features + [label]].info()"
   ]
  },
  {
   "cell_type": "markdown",
   "metadata": {},
   "source": [
    "### 2.3. Box-Cox transform + standard scaling"
   ]
  },
  {
   "cell_type": "code",
   "execution_count": 7,
   "metadata": {},
   "outputs": [
    {
     "name": "stdout",
     "output_type": "stream",
     "text": [
      "<class 'pandas.core.frame.DataFrame'>\n",
      "RangeIndex: 48135 entries, 0 to 48134\n",
      "Data columns (total 10 columns):\n",
      " #   Column                          Non-Null Count  Dtype  \n",
      "---  ------                          --------------  -----  \n",
      " 0   latitude                        48135 non-null  float64\n",
      " 1   longitude                       48135 non-null  float64\n",
      " 2   minimum_nights                  48135 non-null  float64\n",
      " 3   number_of_reviews               48135 non-null  float64\n",
      " 4   reviews_per_month               48135 non-null  float64\n",
      " 5   calculated_host_listings_count  48135 non-null  float64\n",
      " 6   availability_365                48135 non-null  float64\n",
      " 7   neighbourhood_group             48135 non-null  float64\n",
      " 8   room_type                       48135 non-null  float64\n",
      " 9   price                           48135 non-null  float64\n",
      "dtypes: float64(10)\n",
      "memory usage: 3.7 MB\n"
     ]
    }
   ],
   "source": [
    "scaled_transformed_data_df=transformed_data_df.copy()\n",
    "scaler=StandardScaler()\n",
    "scaled_transformed_data_df[features + [label]]=scaler.fit_transform(scaled_transformed_data_df[features + [label]])\n",
    "datasets['Transformed+scaled']=scaled_transformed_data_df[features + [label]].copy()\n",
    "\n",
    "scaled_transformed_data_df[features + [label]].info()"
   ]
  },
  {
   "cell_type": "markdown",
   "metadata": {},
   "source": [
    "### 2.4. Results\n",
    "\n",
    "#### 2.4.1. Linear model"
   ]
  },
  {
   "cell_type": "code",
   "execution_count": 10,
   "metadata": {},
   "outputs": [
    {
     "name": "stdout",
     "output_type": "stream",
     "text": [
      "ANOVA p-value: 0.000\n",
      "\n"
     ]
    }
   ],
   "source": [
    "linear_cross_val_results_df, linear_tukey_result=funcs.evaluate_datasets(\n",
    "    LinearRegression(),\n",
    "    datasets\n",
    ")"
   ]
  },
  {
   "cell_type": "markdown",
   "metadata": {},
   "source": [
    "#### 2.4.2. Tree model"
   ]
  },
  {
   "cell_type": "code",
   "execution_count": 11,
   "metadata": {},
   "outputs": [
    {
     "name": "stdout",
     "output_type": "stream",
     "text": [
      "ANOVA p-value: 0.000\n",
      "\n"
     ]
    }
   ],
   "source": [
    "tree_cross_val_results_df, tree_tukey_result=funcs.evaluate_datasets(\n",
    "    HistGradientBoostingRegressor(),\n",
    "    datasets\n",
    ")"
   ]
  },
  {
   "cell_type": "markdown",
   "metadata": {},
   "source": [
    "#### 2.4.2. Model comparison"
   ]
  },
  {
   "cell_type": "code",
   "execution_count": 12,
   "metadata": {},
   "outputs": [
    {
     "name": "stdout",
     "output_type": "stream",
     "text": [
      "Linear model:\n",
      "\n",
      "        Multiple Comparison of Means - Tukey HSD, FWER=0.05        \n",
      "===================================================================\n",
      "   group1         group2       meandiff p-adj  lower  upper  reject\n",
      "-------------------------------------------------------------------\n",
      "        Raw             Scaled      0.0   1.0 -0.0061 0.0061  False\n",
      "        Raw        Transformed   0.3753   0.0  0.3692 0.3814   True\n",
      "        Raw Transformed+scaled   0.3753   0.0  0.3692 0.3814   True\n",
      "     Scaled        Transformed   0.3753   0.0  0.3692 0.3814   True\n",
      "     Scaled Transformed+scaled   0.3753   0.0  0.3692 0.3814   True\n",
      "Transformed Transformed+scaled     -0.0   1.0 -0.0061 0.0061  False\n",
      "-------------------------------------------------------------------\n",
      "\n",
      "Tree model:\n",
      "\n",
      "        Multiple Comparison of Means - Tukey HSD, FWER=0.05         \n",
      "====================================================================\n",
      "   group1         group2       meandiff p-adj   lower  upper  reject\n",
      "--------------------------------------------------------------------\n",
      "        Raw             Scaled   0.0013 0.9945 -0.0121 0.0147  False\n",
      "        Raw        Transformed   0.3416    0.0  0.3282 0.3551   True\n",
      "        Raw Transformed+scaled   0.3416    0.0  0.3282  0.355   True\n",
      "     Scaled        Transformed   0.3404    0.0  0.3269 0.3538   True\n",
      "     Scaled Transformed+scaled   0.3403    0.0  0.3269 0.3537   True\n",
      "Transformed Transformed+scaled  -0.0001    1.0 -0.0135 0.0134  False\n",
      "--------------------------------------------------------------------\n"
     ]
    },
    {
     "data": {
      "image/png": "[encoded data removed]",
      "text/plain": [
       "<Figure size 800x400 with 2 Axes>"
      ]
     },
     "metadata": {},
     "output_type": "display_data"
    }
   ],
   "source": [
    "print(f'Linear model:\\n\\n{linear_tukey_result}\\n')\n",
    "print(f'Tree model:\\n\\n{tree_tukey_result}')\n",
    "\n",
    "fig, axs=plt.subplots(1,2, figsize=(8,4), sharey=True)\n",
    "axs=axs.flatten()\n",
    "\n",
    "fig.suptitle('Feature scaling & transformation methods')\n",
    "\n",
    "sns.boxplot(linear_cross_val_results_df, x='Feature set', y='Score', ax=axs[0])\n",
    "axs[0].set_title('Linear model')\n",
    "axs[0].set_xlabel('')\n",
    "axs[0].tick_params(axis='x', labelrotation=45)\n",
    "axs[0].set_ylabel('Explained variance')\n",
    "\n",
    "sns.boxplot(tree_cross_val_results_df, x='Feature set', y='Score', ax=axs[1])\n",
    "axs[1].set_title('Tree model')\n",
    "axs[1].set_xlabel('')\n",
    "axs[1].tick_params(axis='x', labelrotation=45)\n",
    "axs[1].set_ylabel('Explained variance')\n",
    "\n",
    "plt.tight_layout()\n",
    "plt.show()"
   ]
  },
  {
   "cell_type": "markdown",
   "metadata": {},
   "source": [
    "## 3. Synthetic features"
   ]
  },
  {
   "cell_type": "code",
   "execution_count": 14,
   "metadata": {},
   "outputs": [],
   "source": [
    "features_df=datasets['Transformed'].copy()\n",
    "synthetic_features={'Input': features_df}"
   ]
  },
  {
   "cell_type": "markdown",
   "metadata": {},
   "source": [
    "### 3.1. Polynomial features"
   ]
  },
  {
   "cell_type": "code",
   "execution_count": 15,
   "metadata": {},
   "outputs": [],
   "source": [
    "degrees=[2,3,4]\n",
    "\n",
    "for degree in degrees:\n",
    "    poly=PolynomialFeatures(degree=degree, include_bias=False)\n",
    "    poly_features=poly.fit_transform(features_df.drop('price', axis=1))\n",
    "    poly_features_df=pd.DataFrame(poly_features, columns=poly.get_feature_names_out())\n",
    "    synthetic_features[f'Polynomial degree {degree}']=pd.concat([poly_features_df, features_df], axis=1)"
   ]
  },
  {
   "cell_type": "markdown",
   "metadata": {},
   "source": [
    "### 3.2. Spline features"
   ]
  },
  {
   "cell_type": "code",
   "execution_count": 16,
   "metadata": {},
   "outputs": [],
   "source": [
    "knots=[2,3,4]\n",
    "\n",
    "for degree in degrees:\n",
    "    spline=SplineTransformer(degree=degree)\n",
    "    spline_features=spline.fit_transform(features_df.drop('price', axis=1))\n",
    "    spline_features_df=pd.DataFrame(spline_features, columns=spline.get_feature_names_out())\n",
    "    synthetic_features[f'Spline degree {degree}']=pd.concat([spline_features_df, features_df], axis=1)"
   ]
  },
  {
   "cell_type": "markdown",
   "metadata": {},
   "source": [
    "### 3.3. Results\n",
    "\n",
    "#### 3.3.1. Linear model"
   ]
  },
  {
   "cell_type": "code",
   "execution_count": 17,
   "metadata": {},
   "outputs": [
    {
     "name": "stdout",
     "output_type": "stream",
     "text": [
      "ANOVA p-value: 0.000\n",
      "\n"
     ]
    }
   ],
   "source": [
    "linear_cross_val_results_df, linear_tukey_result=funcs.evaluate_datasets(\n",
    "    LinearRegression(),\n",
    "    synthetic_features\n",
    ")"
   ]
  },
  {
   "cell_type": "markdown",
   "metadata": {},
   "source": [
    "#### 3.3.2. Tree model"
   ]
  },
  {
   "cell_type": "code",
   "execution_count": 18,
   "metadata": {},
   "outputs": [
    {
     "name": "stdout",
     "output_type": "stream",
     "text": [
      "ANOVA p-value: 0.062\n",
      "\n"
     ]
    }
   ],
   "source": [
    "tree_cross_val_results_df, tree_tukey_result=funcs.evaluate_datasets(\n",
    "    HistGradientBoostingRegressor(),\n",
    "    synthetic_features\n",
    ")"
   ]
  },
  {
   "cell_type": "markdown",
   "metadata": {},
   "source": [
    "#### 3.3.3. Results comparison"
   ]
  },
  {
   "cell_type": "code",
   "execution_count": 19,
   "metadata": {},
   "outputs": [
    {
     "name": "stdout",
     "output_type": "stream",
     "text": [
      "Linear model:\n",
      "\n",
      "             Multiple Comparison of Means - Tukey HSD, FWER=0.05              \n",
      "==============================================================================\n",
      "       group1              group2       meandiff p-adj   lower   upper  reject\n",
      "------------------------------------------------------------------------------\n",
      "              Input Polynomial degree 2   0.0767    0.0  0.0716  0.0818   True\n",
      "              Input Polynomial degree 3   0.0962    0.0  0.0911  0.1013   True\n",
      "              Input Polynomial degree 4   0.1022    0.0  0.0971  0.1073   True\n",
      "              Input     Spline degree 2    0.074    0.0  0.0689  0.0791   True\n",
      "              Input     Spline degree 3   0.0773    0.0  0.0722  0.0824   True\n",
      "              Input     Spline degree 4   0.0786    0.0  0.0735  0.0837   True\n",
      "Polynomial degree 2 Polynomial degree 3   0.0195    0.0  0.0144  0.0246   True\n",
      "Polynomial degree 2 Polynomial degree 4   0.0255    0.0  0.0204  0.0306   True\n",
      "Polynomial degree 2     Spline degree 2  -0.0027 0.7024 -0.0078  0.0024  False\n",
      "Polynomial degree 2     Spline degree 3   0.0006 0.9998 -0.0045  0.0057  False\n",
      "Polynomial degree 2     Spline degree 4   0.0019 0.9292 -0.0032   0.007  False\n",
      "Polynomial degree 3 Polynomial degree 4    0.006 0.0109  0.0009  0.0111   True\n",
      "Polynomial degree 3     Spline degree 2  -0.0222    0.0 -0.0273 -0.0171   True\n",
      "Polynomial degree 3     Spline degree 3  -0.0189    0.0  -0.024 -0.0138   True\n",
      "Polynomial degree 3     Spline degree 4  -0.0176    0.0 -0.0228 -0.0125   True\n",
      "Polynomial degree 4     Spline degree 2  -0.0282    0.0 -0.0333 -0.0231   True\n",
      "Polynomial degree 4     Spline degree 3  -0.0249    0.0   -0.03 -0.0198   True\n",
      "Polynomial degree 4     Spline degree 4  -0.0236    0.0 -0.0287 -0.0185   True\n",
      "    Spline degree 2     Spline degree 3   0.0033 0.4618 -0.0018  0.0084  False\n",
      "    Spline degree 2     Spline degree 4   0.0046 0.1132 -0.0005  0.0097  False\n",
      "    Spline degree 3     Spline degree 4   0.0013 0.9905 -0.0039  0.0064  False\n",
      "------------------------------------------------------------------------------\n",
      "\n",
      "Tree model:\n",
      "\n",
      "             Multiple Comparison of Means - Tukey HSD, FWER=0.05             \n",
      "=============================================================================\n",
      "       group1              group2       meandiff p-adj   lower  upper  reject\n",
      "-----------------------------------------------------------------------------\n",
      "              Input Polynomial degree 2   0.0022 0.8938 -0.0033 0.0078  False\n",
      "              Input Polynomial degree 3   0.0035  0.518 -0.0021  0.009  False\n",
      "              Input Polynomial degree 4   0.0029 0.6994 -0.0026 0.0085  False\n",
      "              Input     Spline degree 2  -0.0003    1.0 -0.0059 0.0053  False\n",
      "              Input     Spline degree 3  -0.0011 0.9967 -0.0067 0.0045  False\n",
      "              Input     Spline degree 4  -0.0007 0.9998 -0.0063 0.0049  False\n",
      "Polynomial degree 2 Polynomial degree 3   0.0012 0.9951 -0.0044 0.0068  False\n",
      "Polynomial degree 2 Polynomial degree 4   0.0007 0.9998 -0.0049 0.0063  False\n",
      "Polynomial degree 2     Spline degree 2  -0.0026 0.8168 -0.0081  0.003  False\n",
      "Polynomial degree 2     Spline degree 3  -0.0034 0.5498  -0.009 0.0022  False\n",
      "Polynomial degree 2     Spline degree 4  -0.0029 0.7027 -0.0085 0.0026  False\n",
      "Polynomial degree 3 Polynomial degree 4  -0.0005    1.0 -0.0061 0.0051  False\n",
      "Polynomial degree 3     Spline degree 2  -0.0038 0.4063 -0.0094 0.0018  False\n",
      "Polynomial degree 3     Spline degree 3  -0.0046 0.1846 -0.0102  0.001  False\n",
      "Polynomial degree 3     Spline degree 4  -0.0042 0.2916 -0.0097 0.0014  False\n",
      "Polynomial degree 4     Spline degree 2  -0.0033 0.5868 -0.0089 0.0023  False\n",
      "Polynomial degree 4     Spline degree 3  -0.0041 0.3143 -0.0097 0.0015  False\n",
      "Polynomial degree 4     Spline degree 4  -0.0036 0.4548 -0.0092 0.0019  False\n",
      "    Spline degree 2     Spline degree 3  -0.0008 0.9995 -0.0064 0.0048  False\n",
      "    Spline degree 2     Spline degree 4  -0.0004    1.0  -0.006 0.0052  False\n",
      "    Spline degree 3     Spline degree 4   0.0004    1.0 -0.0051  0.006  False\n",
      "-----------------------------------------------------------------------------\n"
     ]
    },
    {
     "data": {
      "image/png": "[encoded data removed]",
      "text/plain": [
       "<Figure size 800x400 with 2 Axes>"
      ]
     },
     "metadata": {},
     "output_type": "display_data"
    }
   ],
   "source": [
    "print(f'Linear model:\\n\\n{linear_tukey_result}\\n')\n",
    "print(f'Tree model:\\n\\n{tree_tukey_result}')\n",
    "\n",
    "fig, axs=plt.subplots(1,2, figsize=(8,4), sharey=True)\n",
    "axs=axs.flatten()\n",
    "\n",
    "fig.suptitle('Synthetic features')\n",
    "\n",
    "sns.boxplot(linear_cross_val_results_df, x='Feature set', y='Score', ax=axs[0])\n",
    "axs[0].set_title('Linear model')\n",
    "axs[0].set_xlabel('')\n",
    "axs[0].tick_params(axis='x', labelrotation=45)\n",
    "axs[0].set_ylabel('Explained variance')\n",
    "\n",
    "sns.boxplot(tree_cross_val_results_df, x='Feature set', y='Score', ax=axs[1])\n",
    "axs[1].set_title('Tree model')\n",
    "axs[1].set_xlabel('')\n",
    "axs[1].tick_params(axis='x', labelrotation=45)\n",
    "axs[1].set_ylabel('Explained variance')\n",
    "\n",
    "plt.tight_layout()\n",
    "plt.show()"
   ]
  },
  {
   "cell_type": "markdown",
   "metadata": {},
   "source": [
    "## 4. Feature selection\n",
    "\n",
    "### 4.1. Recursive feature elimination"
   ]
  },
  {
   "cell_type": "code",
   "execution_count": 20,
   "metadata": {},
   "outputs": [],
   "source": [
    "linear_selector=RFECV(\n",
    "    LinearRegression(),\n",
    "    step=1,\n",
    "    cv=5,\n",
    "    scoring='explained_variance'\n",
    ")\n",
    "\n",
    "linear_selector=linear_selector.fit(\n",
    "    synthetic_features[f'Polynomial degree 3'].drop('price', axis=1), \n",
    "    synthetic_features[f'Polynomial degree 3']['price']\n",
    ")"
   ]
  },
  {
   "cell_type": "markdown",
   "metadata": {},
   "source": [
    "### 4.2. Results"
   ]
  },
  {
   "cell_type": "code",
   "execution_count": 29,
   "metadata": {},
   "outputs": [
    {
     "data": {
      "image/png": "[encoded data removed]",
      "text/plain": [
       "<Figure size 500x400 with 1 Axes>"
      ]
     },
     "metadata": {},
     "output_type": "display_data"
    }
   ],
   "source": [
    "linear_results = pd.DataFrame(linear_selector.cv_results_)\n",
    "\n",
    "fig, axs=plt.subplots(1,1, figsize=(5,4), sharey=True)\n",
    "\n",
    "fig.suptitle('Recursive feature elimination')\n",
    "\n",
    "axs.plot(linear_results['n_features'], linear_results['mean_test_score'], color='black')\n",
    "axs.fill_between(\n",
    "    linear_results['n_features'],\n",
    "    linear_results['mean_test_score'] - linear_results['std_test_score'],\n",
    "    linear_results['mean_test_score'] + linear_results['std_test_score'],\n",
    "    color='grey',\n",
    "    alpha=0.3\n",
    ")\n",
    "axs.set_xlabel('Number of features')\n",
    "axs.set_ylabel('Explained variance')\n",
    "\n",
    "fig.show()"
   ]
  },
  {
   "cell_type": "markdown",
   "metadata": {},
   "source": [
    "## 5. Save final data\n",
    "\n",
    "### 5.1. Select features"
   ]
  },
  {
   "cell_type": "code",
   "execution_count": null,
   "metadata": {},
   "outputs": [
    {
     "data": {
      "text/plain": [
       "164"
      ]
     },
     "execution_count": 31,
     "metadata": {},
     "output_type": "execute_result"
    }
   ],
   "source": [
    "data_df=synthetic_features[f'Polynomial degree 3'][linear_selector.get_feature_names_out()]"
   ]
  },
  {
   "cell_type": "markdown",
   "metadata": {},
   "source": [
    "### 5.2. Write to disk"
   ]
  },
  {
   "cell_type": "code",
   "execution_count": null,
   "metadata": {},
   "outputs": [],
   "source": [
    "data_df.to_parquet('./data/processed/gperdrizet_processed_data.parquet')"
   ]
  }
 ],
 "metadata": {
  "kernelspec": {
   "display_name": ".venv",
   "language": "python",
   "name": "python3"
  },
  "language_info": {
   "codemirror_mode": {
    "name": "ipython",
    "version": 3
   },
   "file_extension": ".py",
   "mimetype": "text/x-python",
   "name": "python",
   "nbconvert_exporter": "python",
   "pygments_lexer": "ipython3",
   "version": "3.10.16"
  }
 },
 "nbformat": 4,
 "nbformat_minor": 2
}
